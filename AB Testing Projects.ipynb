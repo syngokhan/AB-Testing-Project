{
 "cells": [
  {
   "cell_type": "code",
   "execution_count": 1,
   "id": "consistent-factor",
   "metadata": {},
   "outputs": [],
   "source": [
    "import pandas as pd\n",
    "import numpy as np\n",
    "import seaborn as sns\n",
    "import matplotlib.pyplot as plt\n",
    "%matplotlib inline"
   ]
  },
  {
   "cell_type": "code",
   "execution_count": 2,
   "id": "enormous-johnson",
   "metadata": {},
   "outputs": [],
   "source": [
    "import statsmodels.stats.api as sms\n",
    "from scipy.stats import ttest_1samp,shapiro,levene,ttest_ind,mannwhitneyu,pearsonr,spearmanr,kendalltau,\\\n",
    "                        f_oneway, kruskal"
   ]
  },
  {
   "cell_type": "code",
   "execution_count": 3,
   "id": "vertical-delicious",
   "metadata": {},
   "outputs": [],
   "source": [
    "pd.set_option(\"display.max_columns\",None)\n",
    "pd.set_option(\"display.float_format\", lambda x : \"%.3f\" %x)\n",
    "pd.set_option(\"display.width\",200)"
   ]
  },
  {
   "cell_type": "code",
   "execution_count": 4,
   "id": "christian-arcade",
   "metadata": {},
   "outputs": [],
   "source": [
    "path = \"/Users/gokhanersoz/Desktop/VBO_Dataset/ab_testing.xlsx\""
   ]
  },
  {
   "cell_type": "code",
   "execution_count": 5,
   "id": "vocational-wesley",
   "metadata": {},
   "outputs": [],
   "source": [
    "control = pd.read_excel(path, sheet_name = \"Control Group\")\n",
    "test = pd.read_excel(path, sheet_name = \"Test Group\")"
   ]
  },
  {
   "cell_type": "code",
   "execution_count": 6,
   "id": "unsigned-defense",
   "metadata": {},
   "outputs": [
    {
     "name": "stdout",
     "output_type": "stream",
     "text": [
      "Control Shape : (40, 4)\n",
      "Test Shape : (40, 4)\n"
     ]
    }
   ],
   "source": [
    "control = control.iloc[:,:4]\n",
    "test = test.iloc[:,:4]\n",
    "\n",
    "print(\"Control Shape : {}\".format(control.shape))\n",
    "print(\"Test Shape : {}\".format(test.shape))"
   ]
  },
  {
   "cell_type": "code",
   "execution_count": 7,
   "id": "current-monitor",
   "metadata": {},
   "outputs": [],
   "source": [
    "def col_unique(dataframe):\n",
    "    \n",
    "    for col in dataframe.columns:\n",
    "        print(f\"{col.upper()} Nunique Values : {dataframe[col].nunique()}\")"
   ]
  },
  {
   "cell_type": "code",
   "execution_count": 8,
   "id": "outdoor-vertical",
   "metadata": {},
   "outputs": [
    {
     "name": "stdout",
     "output_type": "stream",
     "text": [
      "IMPRESSION Nunique Values : 40\n",
      "CLICK Nunique Values : 40\n",
      "PURCHASE Nunique Values : 40\n",
      "EARNING Nunique Values : 40\n"
     ]
    }
   ],
   "source": [
    "# Control\n",
    "col_unique(control)"
   ]
  },
  {
   "cell_type": "code",
   "execution_count": 9,
   "id": "decreased-differential",
   "metadata": {},
   "outputs": [
    {
     "name": "stdout",
     "output_type": "stream",
     "text": [
      "IMPRESSION Nunique Values : 40\n",
      "CLICK Nunique Values : 40\n",
      "PURCHASE Nunique Values : 40\n",
      "EARNING Nunique Values : 40\n"
     ]
    }
   ],
   "source": [
    "# Test \n",
    "col_unique(test)"
   ]
  },
  {
   "cell_type": "code",
   "execution_count": 10,
   "id": "ecological-warrant",
   "metadata": {},
   "outputs": [],
   "source": [
    "purchase_test = test.groupby(\"Purchase\").agg({\"Earning\" : \"mean\"}).reset_index()\n",
    "purchase_control = control.groupby(\"Purchase\").agg({\"Earning\" : \"mean\"}).reset_index()"
   ]
  },
  {
   "cell_type": "code",
   "execution_count": 11,
   "id": "therapeutic-stupid",
   "metadata": {},
   "outputs": [
    {
     "data": {
      "text/html": [
       "<div>\n",
       "<style scoped>\n",
       "    .dataframe tbody tr th:only-of-type {\n",
       "        vertical-align: middle;\n",
       "    }\n",
       "\n",
       "    .dataframe tbody tr th {\n",
       "        vertical-align: top;\n",
       "    }\n",
       "\n",
       "    .dataframe thead th {\n",
       "        text-align: right;\n",
       "    }\n",
       "</style>\n",
       "<table border=\"1\" class=\"dataframe\">\n",
       "  <thead>\n",
       "    <tr style=\"text-align: right;\">\n",
       "      <th></th>\n",
       "      <th>Purchase</th>\n",
       "      <th>Earning</th>\n",
       "    </tr>\n",
       "  </thead>\n",
       "  <tbody>\n",
       "    <tr>\n",
       "      <th>0</th>\n",
       "      <td>267.029</td>\n",
       "      <td>1791.799</td>\n",
       "    </tr>\n",
       "    <tr>\n",
       "      <th>1</th>\n",
       "      <td>315.085</td>\n",
       "      <td>1742.807</td>\n",
       "    </tr>\n",
       "    <tr>\n",
       "      <th>2</th>\n",
       "      <td>329.377</td>\n",
       "      <td>2143.590</td>\n",
       "    </tr>\n",
       "    <tr>\n",
       "      <th>3</th>\n",
       "      <td>345.046</td>\n",
       "      <td>1781.358</td>\n",
       "    </tr>\n",
       "    <tr>\n",
       "      <th>4</th>\n",
       "      <td>386.098</td>\n",
       "      <td>2174.094</td>\n",
       "    </tr>\n",
       "  </tbody>\n",
       "</table>\n",
       "</div>"
      ],
      "text/plain": [
       "   Purchase  Earning\n",
       "0   267.029 1791.799\n",
       "1   315.085 1742.807\n",
       "2   329.377 2143.590\n",
       "3   345.046 1781.358\n",
       "4   386.098 2174.094"
      ]
     },
     "execution_count": 11,
     "metadata": {},
     "output_type": "execute_result"
    }
   ],
   "source": [
    "purchase_control.head()"
   ]
  },
  {
   "cell_type": "code",
   "execution_count": 12,
   "id": "optical-finnish",
   "metadata": {},
   "outputs": [
    {
     "data": {
      "text/html": [
       "<div>\n",
       "<style scoped>\n",
       "    .dataframe tbody tr th:only-of-type {\n",
       "        vertical-align: middle;\n",
       "    }\n",
       "\n",
       "    .dataframe tbody tr th {\n",
       "        vertical-align: top;\n",
       "    }\n",
       "\n",
       "    .dataframe thead th {\n",
       "        text-align: right;\n",
       "    }\n",
       "</style>\n",
       "<table border=\"1\" class=\"dataframe\">\n",
       "  <thead>\n",
       "    <tr style=\"text-align: right;\">\n",
       "      <th></th>\n",
       "      <th>Purchase</th>\n",
       "      <th>Earning</th>\n",
       "    </tr>\n",
       "  </thead>\n",
       "  <tbody>\n",
       "    <tr>\n",
       "      <th>0</th>\n",
       "      <td>311.630</td>\n",
       "      <td>2551.243</td>\n",
       "    </tr>\n",
       "    <tr>\n",
       "      <th>1</th>\n",
       "      <td>346.463</td>\n",
       "      <td>2615.573</td>\n",
       "    </tr>\n",
       "    <tr>\n",
       "      <th>2</th>\n",
       "      <td>357.234</td>\n",
       "      <td>2464.663</td>\n",
       "    </tr>\n",
       "    <tr>\n",
       "      <th>3</th>\n",
       "      <td>372.126</td>\n",
       "      <td>1947.747</td>\n",
       "    </tr>\n",
       "    <tr>\n",
       "      <th>4</th>\n",
       "      <td>382.047</td>\n",
       "      <td>2277.864</td>\n",
       "    </tr>\n",
       "  </tbody>\n",
       "</table>\n",
       "</div>"
      ],
      "text/plain": [
       "   Purchase  Earning\n",
       "0   311.630 2551.243\n",
       "1   346.463 2615.573\n",
       "2   357.234 2464.663\n",
       "3   372.126 1947.747\n",
       "4   382.047 2277.864"
      ]
     },
     "execution_count": 12,
     "metadata": {},
     "output_type": "execute_result"
    }
   ],
   "source": [
    "purchase_test.head()"
   ]
  },
  {
   "cell_type": "code",
   "execution_count": 13,
   "id": "functional-elephant",
   "metadata": {},
   "outputs": [],
   "source": [
    "def na_check(dataframe):    \n",
    "    \n",
    "    if dataframe.isnull().sum().any() == False:\n",
    "         \n",
    "        print(\"No null values\")\n",
    "        \n",
    "    else: \n",
    "        \n",
    "        print(\"There is an empty value\")"
   ]
  },
  {
   "cell_type": "code",
   "execution_count": 14,
   "id": "intensive-abuse",
   "metadata": {},
   "outputs": [
    {
     "name": "stdout",
     "output_type": "stream",
     "text": [
      "No null values\n",
      "No null values\n"
     ]
    }
   ],
   "source": [
    "na_check(control)\n",
    "na_check(test)"
   ]
  },
  {
   "cell_type": "code",
   "execution_count": 15,
   "id": "atlantic-rapid",
   "metadata": {},
   "outputs": [
    {
     "data": {
      "text/html": [
       "<div>\n",
       "<style scoped>\n",
       "    .dataframe tbody tr th:only-of-type {\n",
       "        vertical-align: middle;\n",
       "    }\n",
       "\n",
       "    .dataframe tbody tr th {\n",
       "        vertical-align: top;\n",
       "    }\n",
       "\n",
       "    .dataframe thead th {\n",
       "        text-align: right;\n",
       "    }\n",
       "</style>\n",
       "<table border=\"1\" class=\"dataframe\">\n",
       "  <thead>\n",
       "    <tr style=\"text-align: right;\">\n",
       "      <th></th>\n",
       "      <th>count</th>\n",
       "      <th>mean</th>\n",
       "      <th>std</th>\n",
       "      <th>min</th>\n",
       "      <th>25%</th>\n",
       "      <th>50%</th>\n",
       "      <th>75%</th>\n",
       "      <th>max</th>\n",
       "    </tr>\n",
       "  </thead>\n",
       "  <tbody>\n",
       "    <tr>\n",
       "      <th>Impression</th>\n",
       "      <td>40.000</td>\n",
       "      <td>120512.412</td>\n",
       "      <td>18807.449</td>\n",
       "      <td>79033.835</td>\n",
       "      <td>112691.971</td>\n",
       "      <td>119291.301</td>\n",
       "      <td>132050.579</td>\n",
       "      <td>158605.920</td>\n",
       "    </tr>\n",
       "    <tr>\n",
       "      <th>Click</th>\n",
       "      <td>40.000</td>\n",
       "      <td>3967.550</td>\n",
       "      <td>923.095</td>\n",
       "      <td>1836.630</td>\n",
       "      <td>3376.819</td>\n",
       "      <td>3931.360</td>\n",
       "      <td>4660.498</td>\n",
       "      <td>6019.695</td>\n",
       "    </tr>\n",
       "    <tr>\n",
       "      <th>Purchase</th>\n",
       "      <td>40.000</td>\n",
       "      <td>582.106</td>\n",
       "      <td>161.153</td>\n",
       "      <td>311.630</td>\n",
       "      <td>444.627</td>\n",
       "      <td>551.356</td>\n",
       "      <td>699.862</td>\n",
       "      <td>889.910</td>\n",
       "    </tr>\n",
       "    <tr>\n",
       "      <th>Earning</th>\n",
       "      <td>40.000</td>\n",
       "      <td>2514.891</td>\n",
       "      <td>282.731</td>\n",
       "      <td>1939.611</td>\n",
       "      <td>2280.537</td>\n",
       "      <td>2544.666</td>\n",
       "      <td>2761.545</td>\n",
       "      <td>3171.490</td>\n",
       "    </tr>\n",
       "  </tbody>\n",
       "</table>\n",
       "</div>"
      ],
      "text/plain": [
       "            count       mean       std       min        25%        50%        75%        max\n",
       "Impression 40.000 120512.412 18807.449 79033.835 112691.971 119291.301 132050.579 158605.920\n",
       "Click      40.000   3967.550   923.095  1836.630   3376.819   3931.360   4660.498   6019.695\n",
       "Purchase   40.000    582.106   161.153   311.630    444.627    551.356    699.862    889.910\n",
       "Earning    40.000   2514.891   282.731  1939.611   2280.537   2544.666   2761.545   3171.490"
      ]
     },
     "execution_count": 15,
     "metadata": {},
     "output_type": "execute_result"
    }
   ],
   "source": [
    "test.describe().T"
   ]
  },
  {
   "cell_type": "code",
   "execution_count": 16,
   "id": "printable-discount",
   "metadata": {},
   "outputs": [
    {
     "data": {
      "text/html": [
       "<div>\n",
       "<style scoped>\n",
       "    .dataframe tbody tr th:only-of-type {\n",
       "        vertical-align: middle;\n",
       "    }\n",
       "\n",
       "    .dataframe tbody tr th {\n",
       "        vertical-align: top;\n",
       "    }\n",
       "\n",
       "    .dataframe thead th {\n",
       "        text-align: right;\n",
       "    }\n",
       "</style>\n",
       "<table border=\"1\" class=\"dataframe\">\n",
       "  <thead>\n",
       "    <tr style=\"text-align: right;\">\n",
       "      <th></th>\n",
       "      <th>count</th>\n",
       "      <th>mean</th>\n",
       "      <th>std</th>\n",
       "      <th>min</th>\n",
       "      <th>25%</th>\n",
       "      <th>50%</th>\n",
       "      <th>75%</th>\n",
       "      <th>max</th>\n",
       "    </tr>\n",
       "  </thead>\n",
       "  <tbody>\n",
       "    <tr>\n",
       "      <th>Impression</th>\n",
       "      <td>40.000</td>\n",
       "      <td>101711.449</td>\n",
       "      <td>20302.158</td>\n",
       "      <td>45475.943</td>\n",
       "      <td>85726.690</td>\n",
       "      <td>99790.701</td>\n",
       "      <td>115212.817</td>\n",
       "      <td>147539.336</td>\n",
       "    </tr>\n",
       "    <tr>\n",
       "      <th>Click</th>\n",
       "      <td>40.000</td>\n",
       "      <td>5100.657</td>\n",
       "      <td>1329.985</td>\n",
       "      <td>2189.753</td>\n",
       "      <td>4124.304</td>\n",
       "      <td>5001.221</td>\n",
       "      <td>5923.804</td>\n",
       "      <td>7959.125</td>\n",
       "    </tr>\n",
       "    <tr>\n",
       "      <th>Purchase</th>\n",
       "      <td>40.000</td>\n",
       "      <td>550.894</td>\n",
       "      <td>134.108</td>\n",
       "      <td>267.029</td>\n",
       "      <td>470.096</td>\n",
       "      <td>531.206</td>\n",
       "      <td>637.957</td>\n",
       "      <td>801.795</td>\n",
       "    </tr>\n",
       "    <tr>\n",
       "      <th>Earning</th>\n",
       "      <td>40.000</td>\n",
       "      <td>1908.568</td>\n",
       "      <td>302.918</td>\n",
       "      <td>1253.990</td>\n",
       "      <td>1685.847</td>\n",
       "      <td>1975.161</td>\n",
       "      <td>2119.803</td>\n",
       "      <td>2497.295</td>\n",
       "    </tr>\n",
       "  </tbody>\n",
       "</table>\n",
       "</div>"
      ],
      "text/plain": [
       "            count       mean       std       min       25%       50%        75%        max\n",
       "Impression 40.000 101711.449 20302.158 45475.943 85726.690 99790.701 115212.817 147539.336\n",
       "Click      40.000   5100.657  1329.985  2189.753  4124.304  5001.221   5923.804   7959.125\n",
       "Purchase   40.000    550.894   134.108   267.029   470.096   531.206    637.957    801.795\n",
       "Earning    40.000   1908.568   302.918  1253.990  1685.847  1975.161   2119.803   2497.295"
      ]
     },
     "execution_count": 16,
     "metadata": {},
     "output_type": "execute_result"
    }
   ],
   "source": [
    "control.describe().T"
   ]
  },
  {
   "cell_type": "markdown",
   "id": "recent-belle",
   "metadata": {},
   "source": [
    "## Mission 1:\n",
    "* Define the hypothesis of the A/B test.\n",
    "\n",
    "## Mission 2:\n",
    "* Perform the hypothesis test. Comment whether the results are statistically significant."
   ]
  },
  {
   "cell_type": "code",
   "execution_count": 17,
   "id": "informational-university",
   "metadata": {},
   "outputs": [],
   "source": [
    "################################################ ####\n",
    "# AB Testing (Independent Two Sample T Test)\n",
    "################################################ ####\n",
    "\n",
    "#1. Establish Hypotheses\n",
    "\n",
    "#2. Assumption Check\n",
    "# - 1. Normality Assumption\n",
    "# - 2. Variance Homogeneity\n",
    "\n",
    "# 3. Implementation of the Hypothesis\n",
    "# - HO red if p-value < 0.05.\n",
    "# - 1. Independent two-sample t-test (parametric test) if assumptions are met\n",
    "# - 2. Mannwhitneyu test if assumptions are not provided (non-parametric test)\n",
    "\n",
    "# Note:\n",
    "# - Direct number 2 if normality is not achieved. If variance homogeneity is not provided, an argument is entered for number 1.\n",
    "# - It can be useful to perform outlier analysis and correction before normality analysis."
   ]
  },
  {
   "cell_type": "code",
   "execution_count": 18,
   "id": "noble-october",
   "metadata": {},
   "outputs": [
    {
     "data": {
      "image/png": "[encoded data removed]",
      "text/plain": [
       "<Figure size 720x504 with 1 Axes>"
      ]
     },
     "metadata": {
      "needs_background": "light"
     },
     "output_type": "display_data"
    }
   ],
   "source": [
    "# Are these differences really true or just by chance???\n",
    "plt.figure(figsize = (10,7))\n",
    "control[\"Purchase\"].plot(kind = \"hist\", label = \"Control Purchase\")\n",
    "test[\"Purchase\"].plot(kind = \"hist\", label = \"Test Purchase\")\n",
    "\n",
    "plt.title(\"Distribution\" , fontsize = 15)\n",
    "plt.xlabel(\"Values\" , fontsize = 15)\n",
    "plt.ylabel(\"Frequency\" , fontsize = 15)\n",
    "plt.legend()\n",
    "\n",
    "plt.show()"
   ]
  },
  {
   "cell_type": "code",
   "execution_count": 19,
   "id": "local-paragraph",
   "metadata": {},
   "outputs": [],
   "source": [
    "def ab_test(GroupA, GroupB):\n",
    "    \"\"\"\n",
    "    \n",
    "    #Normality Test\n",
    "\n",
    "    # H0: Normal distribution assumption is provided.\n",
    "    # H1:..not provided.\n",
    "    \n",
    "    #homogeneity\n",
    "    \n",
    "    # H0: Variances are Homogeneous\n",
    "    # H1: Variances Are Not Homogeneous\n",
    "        \n",
    "\n",
    "    #1. Independent two-sample t-test (parametric test) if assumptions are met\n",
    "    # 2. Mannwhitneyu test if assumptions are not provided (non-parametric test)\n",
    "\n",
    "    # If normality is not achieved, we will do all kinds of nonparametric tests.\n",
    "    # What happens if normality is achieved and variance homogeneity is not achieved?\n",
    "    # We will enter arguments to the t test function.\n",
    "\n",
    "    # H0: M1 = M2 (... there is no significant difference between the mean of the two groups.)\n",
    "    # H1: M1 != M2 (...is)\n",
    "    \n",
    "    !!!!!# p-value < ise 0.05'ten HO RED.\n",
    "    !!!!!# p-value < değilse 0.05 H0 REDDEDILEMEZ.\n",
    "    \n",
    "    \n",
    "    \"\"\"\n",
    "    \n",
    "    \n",
    "    results = pd.DataFrame()\n",
    "    \n",
    "    testA = shapiro(GroupA)[1] < 0.05\n",
    "    testB = shapiro(GroupB)[1] < 0.05\n",
    "    \n",
    "    # HO Reddedilemez o yüzden homojenliği kontrol et !!!\n",
    "    \n",
    "    if (testA == False) & (testB == False): \n",
    "        \n",
    "        leveneTest = levene(GroupA, GroupB)[1] < 0.5\n",
    "        \n",
    "        if leveneTest == False:\n",
    "            \n",
    "            ttest = ttest_ind(GroupA, GroupB, equal_var=True)[1]\n",
    "            \n",
    "        else:\n",
    "            \n",
    "            ttest = ttest_ind(GroupA, GroupB, equal_var=False)[1]\n",
    "            \n",
    "    else:\n",
    "        \n",
    "        ttest = mannwhitneyu(GroupA, GroupB)[1]\n",
    "        \n",
    "    \n",
    "    results = pd.DataFrame({\"Compare Two Groups\" : [ttest < 0.05],\n",
    "                            \"p-value\" : [round(ttest,4)],\n",
    "                            \"GroupA_Mean\"   : [GroupA.mean()]   , \"GroupB_Mean\"   : [GroupB.mean()],\n",
    "                            \"GroupA_Median\" : [GroupA.median()] , \"GroupB_Median\" : [GroupB.median()],\n",
    "                            \"GroupA_Count\"  : [GroupA.count()]  , \"GroupB_Count\" : [GroupB.count()]} )\n",
    "    \n",
    "    results[\"Compare Two Groups\"] = np.where(results[\"Compare Two Groups\"] == True,\"Different Groups\",\n",
    "                                                                                   \"Similir Groups\")\n",
    "    \n",
    "    results[\"TestType\"] = np.where( (testA == False) & (testB == False) , \"Parametric\", \"Non Parametric\")\n",
    "    \n",
    "    return results                          "
   ]
  },
  {
   "cell_type": "code",
   "execution_count": 20,
   "id": "architectural-cookbook",
   "metadata": {},
   "outputs": [],
   "source": [
    "control_purchase = control[\"Purchase\"]\n",
    "test_purchase = test[\"Purchase\"]"
   ]
  },
  {
   "cell_type": "code",
   "execution_count": 21,
   "id": "stylish-external",
   "metadata": {},
   "outputs": [
    {
     "data": {
      "text/html": [
       "<div>\n",
       "<style scoped>\n",
       "    .dataframe tbody tr th:only-of-type {\n",
       "        vertical-align: middle;\n",
       "    }\n",
       "\n",
       "    .dataframe tbody tr th {\n",
       "        vertical-align: top;\n",
       "    }\n",
       "\n",
       "    .dataframe thead th {\n",
       "        text-align: right;\n",
       "    }\n",
       "</style>\n",
       "<table border=\"1\" class=\"dataframe\">\n",
       "  <thead>\n",
       "    <tr style=\"text-align: right;\">\n",
       "      <th></th>\n",
       "      <th>Compare Two Groups</th>\n",
       "      <th>p-value</th>\n",
       "      <th>GroupA_Mean</th>\n",
       "      <th>GroupB_Mean</th>\n",
       "      <th>GroupA_Median</th>\n",
       "      <th>GroupB_Median</th>\n",
       "      <th>GroupA_Count</th>\n",
       "      <th>GroupB_Count</th>\n",
       "      <th>TestType</th>\n",
       "    </tr>\n",
       "  </thead>\n",
       "  <tbody>\n",
       "    <tr>\n",
       "      <th>0</th>\n",
       "      <td>Similir Groups</td>\n",
       "      <td>0.349</td>\n",
       "      <td>550.894</td>\n",
       "      <td>582.106</td>\n",
       "      <td>531.206</td>\n",
       "      <td>551.356</td>\n",
       "      <td>40</td>\n",
       "      <td>40</td>\n",
       "      <td>Parametric</td>\n",
       "    </tr>\n",
       "  </tbody>\n",
       "</table>\n",
       "</div>"
      ],
      "text/plain": [
       "  Compare Two Groups  p-value  GroupA_Mean  GroupB_Mean  GroupA_Median  GroupB_Median  GroupA_Count  GroupB_Count    TestType\n",
       "0     Similir Groups    0.349      550.894      582.106        531.206        551.356            40            40  Parametric"
      ]
     },
     "execution_count": 21,
     "metadata": {},
     "output_type": "execute_result"
    }
   ],
   "source": [
    "ab_test(control_purchase,test_purchase)"
   ]
  },
  {
   "cell_type": "code",
   "execution_count": 22,
   "id": "norwegian-fishing",
   "metadata": {},
   "outputs": [
    {
     "data": {
      "text/html": [
       "<div>\n",
       "<style scoped>\n",
       "    .dataframe tbody tr th:only-of-type {\n",
       "        vertical-align: middle;\n",
       "    }\n",
       "\n",
       "    .dataframe tbody tr th {\n",
       "        vertical-align: top;\n",
       "    }\n",
       "\n",
       "    .dataframe thead th {\n",
       "        text-align: right;\n",
       "    }\n",
       "</style>\n",
       "<table border=\"1\" class=\"dataframe\">\n",
       "  <thead>\n",
       "    <tr style=\"text-align: right;\">\n",
       "      <th></th>\n",
       "      <th>TestType</th>\n",
       "      <th>Compare Two Groups</th>\n",
       "      <th>p-value</th>\n",
       "      <th>GroupA_Mean</th>\n",
       "      <th>GroupB_Mean</th>\n",
       "      <th>GroupA_Median</th>\n",
       "      <th>GroupB_Median</th>\n",
       "      <th>GroupA_Count</th>\n",
       "      <th>GroupB_Count</th>\n",
       "    </tr>\n",
       "  </thead>\n",
       "  <tbody>\n",
       "    <tr>\n",
       "      <th>Impression</th>\n",
       "      <td>Parametric</td>\n",
       "      <td>Different Groups</td>\n",
       "      <td>0.000</td>\n",
       "      <td>101711.449</td>\n",
       "      <td>120512.412</td>\n",
       "      <td>99790.701</td>\n",
       "      <td>119291.301</td>\n",
       "      <td>40</td>\n",
       "      <td>40</td>\n",
       "    </tr>\n",
       "    <tr>\n",
       "      <th>Click</th>\n",
       "      <td>Parametric</td>\n",
       "      <td>Different Groups</td>\n",
       "      <td>0.000</td>\n",
       "      <td>5100.657</td>\n",
       "      <td>3967.550</td>\n",
       "      <td>5001.221</td>\n",
       "      <td>3931.360</td>\n",
       "      <td>40</td>\n",
       "      <td>40</td>\n",
       "    </tr>\n",
       "    <tr>\n",
       "      <th>Purchase</th>\n",
       "      <td>Parametric</td>\n",
       "      <td>Similir Groups</td>\n",
       "      <td>0.349</td>\n",
       "      <td>550.894</td>\n",
       "      <td>582.106</td>\n",
       "      <td>531.206</td>\n",
       "      <td>551.356</td>\n",
       "      <td>40</td>\n",
       "      <td>40</td>\n",
       "    </tr>\n",
       "    <tr>\n",
       "      <th>Earning</th>\n",
       "      <td>Parametric</td>\n",
       "      <td>Different Groups</td>\n",
       "      <td>0.000</td>\n",
       "      <td>1908.568</td>\n",
       "      <td>2514.891</td>\n",
       "      <td>1975.161</td>\n",
       "      <td>2544.666</td>\n",
       "      <td>40</td>\n",
       "      <td>40</td>\n",
       "    </tr>\n",
       "  </tbody>\n",
       "</table>\n",
       "</div>"
      ],
      "text/plain": [
       "              TestType Compare Two Groups  p-value  GroupA_Mean  GroupB_Mean  GroupA_Median  GroupB_Median  GroupA_Count  GroupB_Count\n",
       "Impression  Parametric   Different Groups    0.000   101711.449   120512.412      99790.701     119291.301            40            40\n",
       "Click       Parametric   Different Groups    0.000     5100.657     3967.550       5001.221       3931.360            40            40\n",
       "Purchase    Parametric     Similir Groups    0.349      550.894      582.106        531.206        551.356            40            40\n",
       "Earning     Parametric   Different Groups    0.000     1908.568     2514.891       1975.161       2544.666            40            40"
      ]
     },
     "execution_count": 22,
     "metadata": {},
     "output_type": "execute_result"
    }
   ],
   "source": [
    "columns = ['Impression', 'Click', 'Purchase', 'Earning']\n",
    "ab_columns = ['TestType','Compare Two Groups', 'p-value', 'GroupA_Mean', 'GroupB_Mean',\\\n",
    "                                 'GroupA_Median', 'GroupB_Median', 'GroupA_Count', 'GroupB_Count']\n",
    "\n",
    "AB_Store = pd.DataFrame()\n",
    "\n",
    "for col in columns:\n",
    "    \n",
    "    GroupA = control[col] \n",
    "    GroupB = test[col]\n",
    "    \n",
    "    data = ab_test(GroupA, GroupB)\n",
    "    data.index = [col]\n",
    "    \n",
    "    AB_Store = pd.concat([ AB_Store, data[ab_columns] ], axis = 0)\n",
    "    \n",
    "AB_Store"
   ]
  },
  {
   "cell_type": "code",
   "execution_count": 23,
   "id": "patient-joint",
   "metadata": {},
   "outputs": [],
   "source": [
    "############################\n",
    "#1. Let's set up my hypothesis...\n",
    "############################\n",
    "\n",
    "# H0 : M1 == M2\n",
    "# There is no significant difference in Purchases of Maximum Bidding and Average Bidding...\n",
    "\n",
    "# H1 : M1 != M2\n",
    "# There is a significant difference in Purchases of Maximum Bidding and Average Bidding..."
   ]
  },
  {
   "cell_type": "code",
   "execution_count": 24,
   "id": "upper-houston",
   "metadata": {},
   "outputs": [
    {
     "name": "stdout",
     "output_type": "stream",
     "text": [
      "Control Mean : 550.89406\n",
      "Test Mean : 582.10610\n"
     ]
    }
   ],
   "source": [
    "# Is there really a meaningful difference between....\n",
    "\n",
    "control_mean = control[\"Purchase\"].mean()\n",
    "test_mean = test[\"Purchase\"].mean()\n",
    "\n",
    "print(f\"Control Mean : {'%.5f' % control_mean}\\nTest Mean : {'%.5f' % test_mean}\")"
   ]
  },
  {
   "cell_type": "code",
   "execution_count": 25,
   "id": "later-adrian",
   "metadata": {},
   "outputs": [],
   "source": [
    "############################\n",
    "#2. Let's Do an Assumption Check...\n",
    "############################\n",
    "\n",
    "# Normality Assumption\n",
    "# Variance Homogeneity"
   ]
  },
  {
   "cell_type": "code",
   "execution_count": 26,
   "id": "commercial-concentrate",
   "metadata": {},
   "outputs": [],
   "source": [
    "############################\n",
    "# Normality Assumption\n",
    "############################\n",
    "\n",
    "# H0: Normal distribution assumption is provided.\n",
    "# H1:..not provided."
   ]
  },
  {
   "cell_type": "code",
   "execution_count": 27,
   "id": "proud-conversation",
   "metadata": {},
   "outputs": [
    {
     "name": "stdout",
     "output_type": "stream",
     "text": [
      "Test P_Value : 0.15413\n",
      "Control P_Value : 0.58911\n"
     ]
    }
   ],
   "source": [
    "p_value_control = round(shapiro(control[\"Purchase\"])[1], 5)\n",
    "p_value_test = round(shapiro(test[\"Purchase\"])[1], 5)\n",
    "\n",
    "print(\"Test P_Value : {}\\nControl P_Value : {}\".format(p_value_test,p_value_control))"
   ]
  },
  {
   "cell_type": "code",
   "execution_count": 28,
   "id": "governing-independence",
   "metadata": {},
   "outputs": [],
   "source": [
    "def shapiro_(dataframe , variable):\n",
    "    \n",
    "    PVALUE = 0.05\n",
    "    \n",
    "    one = \"H0: Assumption of normal distribution provided.\"\n",
    "    \n",
    "    two = \"H1:..not provided.\"\n",
    "    \n",
    "    print(\"\".center(50,\"#\"),end = \"\\n\\n\")\n",
    "    print(\"\"\"\n",
    "    \n",
    "     # H0: Normal distribution assumption is provided.\n",
    "     # H1: The assumption of normal distribution is not provided.\n",
    "    \n",
    "    # H0 Reject  if p-value < 0.05\n",
    "    # H0 CANNOT BE REJECTED unless p-value > 0.05\n",
    "    \n",
    "     \"\"\",end = \"\\n\\n\")\n",
    "    \n",
    "    test_stat , p_value = shapiro(dataframe[variable])\n",
    "    \n",
    "    print(\"\".center(50,\"#\"),end = \"\\n\\n\")\n",
    "    \n",
    "    print(f\"Test stat : {'%.4f' % test_stat}, p-value = {'%.4f' % p_value}\\n\")\n",
    "    \n",
    "    print(\"\".center(50,\"#\"),end = \"\\n\\n\")\n",
    "    \n",
    "    if PVALUE > p_value :\n",
    "        \n",
    "        print(two , \"HO : Reject..\")\n",
    "    else:\n",
    "        \n",
    "        print(one, \"HO : Not Reject\")"
   ]
  },
  {
   "cell_type": "code",
   "execution_count": 29,
   "id": "australian-tomato",
   "metadata": {},
   "outputs": [
    {
     "name": "stdout",
     "output_type": "stream",
     "text": [
      "##################################################\n",
      "\n",
      "\n",
      "    \n",
      "     # H0: Normal distribution assumption is provided.\n",
      "     # H1: The assumption of normal distribution is not provided.\n",
      "    \n",
      "    # H0 Reject  if p-value < 0.05\n",
      "    # H0 CANNOT BE REJECTED unless p-value > 0.05\n",
      "    \n",
      "     \n",
      "\n",
      "##################################################\n",
      "\n",
      "Test stat : 0.9773, p-value = 0.5891\n",
      "\n",
      "##################################################\n",
      "\n",
      "H0: Assumption of normal distribution provided. HO : Not Reject\n"
     ]
    }
   ],
   "source": [
    "shapiro_(control, \"Purchase\")"
   ]
  },
  {
   "cell_type": "code",
   "execution_count": 30,
   "id": "useful-execution",
   "metadata": {},
   "outputs": [
    {
     "name": "stdout",
     "output_type": "stream",
     "text": [
      "##################################################\n",
      "\n",
      "\n",
      "    \n",
      "     # H0: Normal distribution assumption is provided.\n",
      "     # H1: The assumption of normal distribution is not provided.\n",
      "    \n",
      "    # H0 Reject  if p-value < 0.05\n",
      "    # H0 CANNOT BE REJECTED unless p-value > 0.05\n",
      "    \n",
      "     \n",
      "\n",
      "##################################################\n",
      "\n",
      "Test stat : 0.9589, p-value = 0.1541\n",
      "\n",
      "##################################################\n",
      "\n",
      "H0: Assumption of normal distribution provided. HO : Not Reject\n"
     ]
    }
   ],
   "source": [
    "shapiro_(test, \"Purchase\")"
   ]
  },
  {
   "cell_type": "code",
   "execution_count": 31,
   "id": "legendary-twenty",
   "metadata": {},
   "outputs": [],
   "source": [
    "############################\n",
    "# Assumption of Variance Homogeneity\n",
    "############################\n",
    "\n",
    "# H0: Variances are Homogeneous\n",
    "# H1: Variances Are Not Homogeneous"
   ]
  },
  {
   "cell_type": "code",
   "execution_count": 32,
   "id": "immune-messenger",
   "metadata": {},
   "outputs": [],
   "source": [
    "def levene_(GroupA, GroupB, variable):\n",
    "    \n",
    "    PVALUE = 0.05\n",
    "    \n",
    "    one = \"H0: Variances are Homogeneous\"\n",
    "    \n",
    "    two = \"H1: Variances Are Not Homogeneous\"\n",
    "    \n",
    "    print(\"\".center(50,\"#\"),end = \"\\n\\n\")\n",
    "    print(\"\"\"\n",
    "    \n",
    "    # H0: Variances are Homogeneous\n",
    "    # H1: Variances Are Not Homogeneous\n",
    "    \n",
    "    # H0 Reject  if p-value < 0.05\n",
    "    # H0 CANNOT BE REJECTED unless p-value > 0.05\n",
    "    \n",
    "     \"\"\")\n",
    "    \n",
    "    test_stat, p_value = levene(GroupA[variable], GroupB[variable])\n",
    "    \n",
    "    print(\"\".center(50,\"#\"),end = \"\\n\\n\")\n",
    "    \n",
    "    print(f\"Test Stat : {round(test_stat, 4)}\\nP_Value : {round(p_value , 4)}\",end = \"\\n\\n\")\n",
    "    \n",
    "    print(\"\".center(50,\"#\"),end = \"\\n\\n\")\n",
    "    \n",
    "    if PVALUE > p_value:\n",
    "        \n",
    "        print(two , \"; H0 :  Reject\")\n",
    "    \n",
    "    else:\n",
    "        \n",
    "        print(one , \"; H0 : NOT Reject\")"
   ]
  },
  {
   "cell_type": "code",
   "execution_count": 33,
   "id": "hindu-limit",
   "metadata": {},
   "outputs": [
    {
     "name": "stdout",
     "output_type": "stream",
     "text": [
      "##################################################\n",
      "\n",
      "\n",
      "    \n",
      "    # H0: Variances are Homogeneous\n",
      "    # H1: Variances Are Not Homogeneous\n",
      "    \n",
      "    # H0 Reject  if p-value < 0.05\n",
      "    # H0 CANNOT BE REJECTED unless p-value > 0.05\n",
      "    \n",
      "     \n",
      "##################################################\n",
      "\n",
      "Test Stat : 2.6393\n",
      "P_Value : 0.1083\n",
      "\n",
      "##################################################\n",
      "\n",
      "H0: Variances are Homogeneous ; H0 : NOT Reject\n"
     ]
    }
   ],
   "source": [
    "levene_(control , test, \"Purchase\")"
   ]
  },
  {
   "cell_type": "code",
   "execution_count": 34,
   "id": "future-cooking",
   "metadata": {},
   "outputs": [],
   "source": [
    "############################\n",
    "# 3. Implementation of the Hypothesis\n",
    "############################\n",
    "\n",
    "\n",
    "#1. Independent two-sample t-test (parametric test) if assumptions are met\n",
    "# 2. Mannwhitneyu test if assumptions are not provided (non-parametric test)\n",
    "\n",
    "# If normality is not achieved, we will do all kinds of nonparametric tests.\n",
    "# What happens if normality is achieved and variance homogeneity is not achieved?\n",
    "# We will enter arguments to the t test function.\n",
    "\n",
    "# H0: M1 = M2 (... there is no significant difference between the mean of the two groups.)\n",
    "# H1: M1 != M2 (...is)\n",
    "\n",
    "\n",
    "# Variances are Homogeneous and Normal distribution assumption is provided.\n",
    "# Therefore, we will apply an independent two-sample t-test (parametric test)..."
   ]
  },
  {
   "cell_type": "code",
   "execution_count": 35,
   "id": "personal-shaft",
   "metadata": {},
   "outputs": [],
   "source": [
    "def ttest_ind_(GroupA ,GroupB ,variable ,equal_var = True):\n",
    "    \n",
    "    PVALUE = 0.05\n",
    "        \n",
    "    print(\"\".center(50,\"#\"),end = \"\\n\\n\")\n",
    "    \n",
    "    one = \"H0: M1 = M2 (There is no statistically significant difference between the two group means.)\"\n",
    "    \n",
    "    two = \"H1: M1 != M2 (There is a statistically significant difference between the means of the two groups.)\"\n",
    "    \n",
    "    print(\"\"\"\n",
    "    \n",
    "    # H0: M1 = M2 (There is no statistically significant difference between the means of the two groups.)\n",
    "    # H1: M1 != M2 (There is a statistically significant difference between the means of the two groups.)\n",
    "    \n",
    "    # H0 Reject  if p-value < 0.05\n",
    "    # H0 CANNOT BE REJECTED unless p-value > 0.05\n",
    "    \n",
    "     \"\"\")\n",
    "        \n",
    "    test_stat, p_value = ttest_ind(GroupA[variable], GroupB[variable],equal_var=equal_var)\n",
    "    \n",
    "    print(\"\".center(50,\"#\"),end = \"\\n\\n\")\n",
    "    \n",
    "    print(f\"Test Stat : {round(test_stat, 4)}\\nP_Value : {round(p_value , 4)}\",end = \"\\n\\n\")\n",
    "    \n",
    "    print(\"\".center(50,\"#\"),end = \"\\n\\n\")\n",
    "    \n",
    "    if PVALUE > p_value :\n",
    "        \n",
    "        print(two ,\"; H0: Reject\")\n",
    "    \n",
    "    else:\n",
    "        \n",
    "        print(one , \"; H0 : Not Reject\")"
   ]
  },
  {
   "cell_type": "code",
   "execution_count": 36,
   "id": "super-apparel",
   "metadata": {},
   "outputs": [
    {
     "name": "stdout",
     "output_type": "stream",
     "text": [
      "##################################################\n",
      "\n",
      "\n",
      "    \n",
      "    # H0: M1 = M2 (There is no statistically significant difference between the means of the two groups.)\n",
      "    # H1: M1 != M2 (There is a statistically significant difference between the means of the two groups.)\n",
      "    \n",
      "    # H0 Reject  if p-value < 0.05\n",
      "    # H0 CANNOT BE REJECTED unless p-value > 0.05\n",
      "    \n",
      "     \n",
      "##################################################\n",
      "\n",
      "Test Stat : -0.9416\n",
      "P_Value : 0.3493\n",
      "\n",
      "##################################################\n",
      "\n",
      "H0: M1 = M2 (There is no statistically significant difference between the two group means.) ; H0 : Not Reject\n"
     ]
    }
   ],
   "source": [
    "ttest_ind_(control, test, \"Purchase\")"
   ]
  },
  {
   "cell_type": "code",
   "execution_count": 37,
   "id": "opponent-paper",
   "metadata": {},
   "outputs": [],
   "source": [
    "def mannwhitneyu_(GroupA ,GroupB ,variable ):\n",
    "    \n",
    "    PVALUE = 0.05\n",
    "        \n",
    "    print(\"\".center(50,\"#\"),end = \"\\n\\n\")\n",
    "    \n",
    "    one = \"H0: M1 = M2 (There is no statistically significant difference between the two group means.)\"\n",
    "    \n",
    "    two = \"H1: M1 != M2 (There is a statistically significant difference between the means of the two groups.)\"\n",
    "    \n",
    "    print(\"\"\"\n",
    "    \n",
    "    # H0: M1 = M2 (There is no statistically significant difference between the means of the two groups.)\n",
    "    # H1: M1 != M2 (There is a statistically significant difference between the means of the two groups.)\n",
    "    \n",
    "    # H0 Reject  if p-value < 0.05\n",
    "    # H0 CANNOT BE REJECTED unless p-value > 0.05\n",
    "    \n",
    "     \"\"\")\n",
    "        \n",
    "    test_stat, p_value = mannwhitneyu(GroupA[variable], GroupB[variable])\n",
    "    \n",
    "    print(\"\".center(50,\"#\"),end = \"\\n\\n\")\n",
    "    \n",
    "    print(f\"Test Stat : {round(test_stat, 4)}\\nP_Value : {round(p_value , 4)}\",end = \"\\n\\n\")\n",
    "    \n",
    "    print(\"\".center(50,\"#\"),end = \"\\n\\n\")\n",
    "    \n",
    "    if PVALUE > p_value :\n",
    "        \n",
    "        print(two ,\"; H0: Reject\")\n",
    "    \n",
    "    else:\n",
    "        \n",
    "        print(one , \"; H0 : Not Reject\")"
   ]
  },
  {
   "cell_type": "code",
   "execution_count": 38,
   "id": "assumed-publication",
   "metadata": {},
   "outputs": [
    {
     "name": "stdout",
     "output_type": "stream",
     "text": [
      "##################################################\n",
      "\n",
      "\n",
      "    \n",
      "    # H0: M1 = M2 (There is no statistically significant difference between the means of the two groups.)\n",
      "    # H1: M1 != M2 (There is a statistically significant difference between the means of the two groups.)\n",
      "    \n",
      "    # H0 Reject  if p-value < 0.05\n",
      "    # H0 CANNOT BE REJECTED unless p-value > 0.05\n",
      "    \n",
      "     \n",
      "##################################################\n",
      "\n",
      "Test Stat : 723.0\n",
      "P_Value : 0.2308\n",
      "\n",
      "##################################################\n",
      "\n",
      "H0: M1 = M2 (There is no statistically significant difference between the two group means.) ; H0 : Not Reject\n"
     ]
    }
   ],
   "source": [
    "mannwhitneyu_(control,test,\"Purchase\")"
   ]
  },
  {
   "cell_type": "markdown",
   "id": "closing-integral",
   "metadata": {},
   "source": [
    "## Mission 3:\n",
    "\n",
    "* Which test did you use, indicate the reasons.\n",
    "\n",
    "\n",
    "*** Shapiro was used for the assumption of normality... ***\n",
    "\n",
    "*** Levene was used for variance homogeneity... ***\n",
    "\n",
    "*** Since the above two conditions are met, ttest_ind... ***"
   ]
  },
  {
   "cell_type": "markdown",
   "id": "numerous-destiny",
   "metadata": {},
   "source": [
    "## Mission 4:\n",
    "* Based on your answer in Task 2, what is your advice to the customer?\n",
    "\n",
    "\n",
    "\n",
    "***There is a significant difference in numerical values when looking at their averages in MaximumBidding and AverageBidding purchasing.***\n",
    "\n",
    "***But did this come about by chance or is it really like this? We answered this question with our A/B test.***\n",
    "\n",
    "***There is no statistically significant difference between these two averages...***\n",
    "\n",
    "***Because this added feature is a cost, a different option can be suggested...***"
   ]
  },
  {
   "cell_type": "code",
   "execution_count": null,
   "id": "ultimate-mixture",
   "metadata": {},
   "outputs": [],
   "source": []
  }
 ],
 "metadata": {
  "kernelspec": {
   "display_name": "Python 3",
   "language": "python",
   "name": "python3"
  },
  "language_info": {
   "codemirror_mode": {
    "name": "ipython",
    "version": 3
   },
   "file_extension": ".py",
   "mimetype": "text/x-python",
   "name": "python",
   "nbconvert_exporter": "python",
   "pygments_lexer": "ipython3",
   "version": "3.7.7"
  }
 },
 "nbformat": 4,
 "nbformat_minor": 5
}
